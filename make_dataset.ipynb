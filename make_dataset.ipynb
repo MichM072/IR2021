{
 "cells": [
  {
   "cell_type": "markdown",
   "metadata": {},
   "source": [
    "# Building the dataset of research papers"
   ]
  },
  {
   "cell_type": "markdown",
   "metadata": {},
   "source": [
    "The [Entrez](http://biopython.org/DIST/docs/api/Bio.Entrez-module.html) module, a part of the [Biopython](http://biopython.org/) library, will be used to interface with [PubMed](http://www.ncbi.nlm.nih.gov/pubmed).<br>\n",
    "You can download Biopython from [here](http://biopython.org/wiki/Download).\n",
    "\n",
    "In this notebook we will be covering several of the steps taken in the [Biopython Tutorial](http://biopython.org/DIST/docs/tutorial/Tutorial.html), specifically in [Chapter 9  Accessing NCBI’s Entrez databases](http://biopython.org/DIST/docs/tutorial/Tutorial.html#htoc109)."
   ]
  },
  {
   "cell_type": "code",
   "execution_count": 1,
   "metadata": {},
   "outputs": [],
   "source": [
    "from Bio import Entrez\n",
    "\n",
    "# NCBI requires you to set your email address to make use of NCBI's E-utilities\n",
    "Entrez.email = \"Your.Name.Here@example.org\""
   ]
  },
  {
   "cell_type": "markdown",
   "metadata": {},
   "source": [
    "The datasets will be saved as serialized Python objects, compressed with bzip2.\n",
    "Saving/loading them will therefore require the [pickle](http://docs.python.org/3/library/pickle.html) and [bz2](http://docs.python.org/3/library/bz2.html) modules."
   ]
  },
  {
   "cell_type": "code",
   "execution_count": 2,
   "metadata": {},
   "outputs": [],
   "source": [
    "import pickle, bz2, os"
   ]
  },
  {
   "cell_type": "markdown",
   "metadata": {},
   "source": [
    "## EInfo: Obtaining information about the Entrez databases"
   ]
  },
  {
   "cell_type": "code",
   "execution_count": 3,
   "metadata": {},
   "outputs": [],
   "source": [
    "# accessing extended information about the PubMed database\n",
    "pubmed = Entrez.read( Entrez.einfo(db=\"pubmed\"), validate=False )[u'DbInfo']\n",
    "\n",
    "# list of possible search fields for use with ESearch:\n",
    "search_fields = { f['Name']:f['Description'] for f in pubmed[\"FieldList\"] }"
   ]
  },
  {
   "cell_type": "markdown",
   "metadata": {},
   "source": [
    "In search_fields, we find 'TIAB' ('Free text associated with Abstract/Title') as a possible search field to use in searches."
   ]
  },
  {
   "cell_type": "code",
   "execution_count": 4,
   "metadata": {},
   "outputs": [
    {
     "data": {
      "text/plain": [
       "{'ALL': 'All terms from all searchable fields',\n",
       " 'UID': 'Unique number assigned to publication',\n",
       " 'FILT': 'Limits the records',\n",
       " 'TITL': 'Words in title of publication',\n",
       " 'WORD': 'Free text associated with publication',\n",
       " 'MESH': 'Medical Subject Headings assigned to publication',\n",
       " 'MAJR': 'MeSH terms of major importance to publication',\n",
       " 'AUTH': 'Author(s) of publication',\n",
       " 'JOUR': 'Journal abbreviation of publication',\n",
       " 'AFFL': \"Author's institutional affiliation and address\",\n",
       " 'ECNO': 'EC number for enzyme or CAS registry number',\n",
       " 'SUBS': 'CAS chemical name or MEDLINE Substance Name',\n",
       " 'PDAT': 'Date of publication',\n",
       " 'EDAT': 'Date publication first accessible through Entrez',\n",
       " 'VOL': 'Volume number of publication',\n",
       " 'PAGE': 'Page number(s) of publication',\n",
       " 'PTYP': 'Type of publication (e.g., review)',\n",
       " 'LANG': 'Language of publication',\n",
       " 'ISS': 'Issue number of publication',\n",
       " 'SUBH': 'Additional specificity for MeSH term',\n",
       " 'SI': 'Cross-reference from publication to other databases',\n",
       " 'MHDA': 'Date publication was indexed with MeSH terms',\n",
       " 'TIAB': 'Free text associated with Abstract/Title',\n",
       " 'OTRM': 'Other terms associated with publication',\n",
       " 'INVR': 'Investigator',\n",
       " 'COLN': 'Corporate Author of publication',\n",
       " 'CNTY': 'Country of publication',\n",
       " 'PAPX': 'MeSH pharmacological action pre-explosions',\n",
       " 'GRNT': 'NIH Grant Numbers',\n",
       " 'MDAT': 'Date of last modification',\n",
       " 'CDAT': 'Date of completion',\n",
       " 'PID': 'Publisher ID',\n",
       " 'FAUT': 'First Author of publication',\n",
       " 'FULL': 'Full Author Name(s) of publication',\n",
       " 'FINV': 'Full name of investigator',\n",
       " 'TT': 'Words in transliterated title of publication',\n",
       " 'LAUT': 'Last Author of publication',\n",
       " 'PPDT': 'Date of print publication',\n",
       " 'EPDT': 'Date of Electronic publication',\n",
       " 'LID': 'ELocation ID',\n",
       " 'CRDT': 'Date publication first accessible through Entrez',\n",
       " 'BOOK': 'ID of the book that contains the document',\n",
       " 'ED': \"Section's Editor\",\n",
       " 'ISBN': 'ISBN',\n",
       " 'PUBN': \"Publisher's name\",\n",
       " 'AUCL': 'Author Cluster ID',\n",
       " 'EID': 'Extended PMID',\n",
       " 'DSO': 'Additional text from the summary',\n",
       " 'AUID': 'Author Identifier',\n",
       " 'PS': 'Personal Name as Subject',\n",
       " 'COIS': 'Conflict of Interest Statements'}"
      ]
     },
     "execution_count": 4,
     "metadata": {},
     "output_type": "execute_result"
    }
   ],
   "source": [
    "search_fields"
   ]
  },
  {
   "cell_type": "markdown",
   "metadata": {},
   "source": [
    "## ESearch: Searching the Entrez databases"
   ]
  },
  {
   "cell_type": "markdown",
   "metadata": {},
   "source": [
    "To have a look at the kind of data we get when searching the database, we'll perform a search for papers authored by Haasdijk:"
   ]
  },
  {
   "cell_type": "code",
   "execution_count": 5,
   "metadata": {},
   "outputs": [
    {
     "data": {
      "text/plain": [
       "{'Count': '36', 'RetMax': '20', 'RetStart': '0', 'IdList': ['29311830', '28513205', '28513201', '28323435', '28140628', '26933487', '24977986', '24901702', '24852945', '24708899', '24252306', '23580075', '23144668', '22174697', '22154920', '21870131', '21760539', '20662596', '20602234', '20386726'], 'TranslationSet': [], 'TranslationStack': [{'Term': 'Haasdijk E[Author]', 'Field': 'Author', 'Count': '36', 'Explode': 'N'}, 'GROUP'], 'QueryTranslation': 'Haasdijk E[Author]'}"
      ]
     },
     "execution_count": 5,
     "metadata": {},
     "output_type": "execute_result"
    }
   ],
   "source": [
    "example_authors = ['Haasdijk E']\n",
    "example_search = Entrez.read( Entrez.esearch( db=\"pubmed\", term=' AND '.join([a+'[AUTH]' for a in example_authors]) ) )\n",
    "example_search"
   ]
  },
  {
   "cell_type": "markdown",
   "metadata": {},
   "source": [
    "Note how the result being produced is not in Python's native string format:"
   ]
  },
  {
   "cell_type": "code",
   "execution_count": 6,
   "metadata": {},
   "outputs": [
    {
     "data": {
      "text/plain": [
       "Bio.Entrez.Parser.StringElement"
      ]
     },
     "execution_count": 6,
     "metadata": {},
     "output_type": "execute_result"
    }
   ],
   "source": [
    "type( example_search['IdList'][0] )"
   ]
  },
  {
   "cell_type": "markdown",
   "metadata": {},
   "source": [
    "The part of the query's result we are most interested in is accessible through"
   ]
  },
  {
   "cell_type": "code",
   "execution_count": 7,
   "metadata": {},
   "outputs": [
    {
     "name": "stdout",
     "output_type": "stream",
     "text": [
      "[29311830, 28513205, 28513201, 28323435, 28140628, 26933487, 24977986, 24901702, 24852945, 24708899, 24252306, 23580075, 23144668, 22174697, 22154920, 21870131, 21760539, 20662596, 20602234, 20386726]\n"
     ]
    }
   ],
   "source": [
    "example_ids = [ int(id) for id in example_search['IdList'] ]\n",
    "print(example_ids)"
   ]
  },
  {
   "cell_type": "markdown",
   "metadata": {},
   "source": [
    "### PubMed IDs dataset"
   ]
  },
  {
   "cell_type": "markdown",
   "metadata": {},
   "source": [
    "We will now assemble a dataset comprised of research articles containing the given keyword, in either their titles or abstracts."
   ]
  },
  {
   "cell_type": "code",
   "execution_count": 8,
   "metadata": {},
   "outputs": [],
   "source": [
    "search_term = 'fungus'"
   ]
  },
  {
   "cell_type": "code",
   "execution_count": 9,
   "metadata": {},
   "outputs": [],
   "source": [
    "Ids_file = 'data/' + search_term + '_Ids.pkl.bz2'"
   ]
  },
  {
   "cell_type": "code",
   "execution_count": 10,
   "metadata": {},
   "outputs": [
    {
     "name": "stdout",
     "output_type": "stream",
     "text": [
      "54751 documents contain the search term \"fungus\".\n"
     ]
    }
   ],
   "source": [
    "if os.path.exists( Ids_file ):\n",
    "    Ids = pickle.load( bz2.BZ2File( Ids_file, 'rb' ) )\n",
    "else:\n",
    "    # determine the number of hits for the search term\n",
    "    search = Entrez.read( Entrez.esearch( db=\"pubmed\", term=search_term+'[TIAB]', retmax=0 ) )\n",
    "    total = int( search['Count'] )\n",
    "    \n",
    "    # `Ids` will be incrementally assembled, by performing multiple queries,\n",
    "    # each returning at most `retrieve_per_query` entries.\n",
    "    Ids_str = []\n",
    "    retrieve_per_query = 10000\n",
    "    \n",
    "    for start in range( 0, total, retrieve_per_query ):\n",
    "        print('Fetching IDs of results [%d,%d]' % ( start, start+retrieve_per_query ) )\n",
    "        s = Entrez.read( Entrez.esearch( db=\"pubmed\", term=search_term+'[TIAB]', retstart=start, retmax=retrieve_per_query ) )\n",
    "        Ids_str.extend( s[ u'IdList' ] )\n",
    "    \n",
    "    # convert Ids to integers (and ensure that the conversion is reversible)\n",
    "    Ids = [ int(id) for id in Ids_str ]\n",
    "    \n",
    "    for (id_str, id_int) in zip(Ids_str, Ids):\n",
    "        if str(id_int) != id_str:\n",
    "            raise Exception('Conversion of PubMed ID %s from string to integer it not reversible.' % id_str )\n",
    "    \n",
    "    # Remove IDs that would cause problems below:\n",
    "    Ids.remove(29352803)\n",
    "    \n",
    "    # Save list of Ids\n",
    "    pickle.dump( Ids, bz2.BZ2File( Ids_file, 'wb' ) )\n",
    "    \n",
    "total = len( Ids )\n",
    "print('%d documents contain the search term \"%s\".' % ( total, search_term ) )"
   ]
  },
  {
   "cell_type": "markdown",
   "metadata": {},
   "source": [
    "Taking a look at what we just retrieved, here are the last 5 elements of the `Ids` list:"
   ]
  },
  {
   "cell_type": "code",
   "execution_count": 11,
   "metadata": {},
   "outputs": [
    {
     "data": {
      "text/plain": [
       "[33017218, 33016130, 33016123, 33016118, 33014692]"
      ]
     },
     "execution_count": 11,
     "metadata": {},
     "output_type": "execute_result"
    }
   ],
   "source": [
    "Ids[:5]"
   ]
  },
  {
   "cell_type": "markdown",
   "metadata": {},
   "source": [
    "## ESummary: Retrieving summaries from primary IDs"
   ]
  },
  {
   "cell_type": "markdown",
   "metadata": {},
   "source": [
    "To have a look at the kind of metadata we get from a call to `Entrez.esummary()`, we now fetch the summary of one of Haasdijk's papers (using one of the PubMed IDs we obtained in the previous section:"
   ]
  },
  {
   "cell_type": "code",
   "execution_count": 12,
   "metadata": {},
   "outputs": [
    {
     "name": "stdout",
     "output_type": "stream",
     "text": [
      "Item\n",
      "\t []\n",
      "Id\n",
      "\t 33017218\n",
      "PubDate\n",
      "\t 2020 Dec\n",
      "EPubDate\n",
      "\t \n",
      "Source\n",
      "\t Virulence\n",
      "AuthorList\n",
      "\t ['Ding JL', 'Hou J', 'Feng MG', 'Ying SH']\n",
      "LastAuthor\n",
      "\t Ying SH\n",
      "Title\n",
      "\t Transcriptomic analyses reveal comprehensive responses of insect hemocytes to mycopathogen Beauveria bassiana, and fungal virulence-related cell wall protein assists pathogen to evade host cellular defense.\n",
      "Volume\n",
      "\t 11\n",
      "Issue\n",
      "\t 1\n",
      "Pages\n",
      "\t 1352-1365\n",
      "LangList\n",
      "\t ['English']\n",
      "NlmUniqueID\n",
      "\t 101531386\n",
      "ISSN\n",
      "\t 2150-5594\n",
      "ESSN\n",
      "\t 2150-5608\n",
      "PubTypeList\n",
      "\t ['Journal Article']\n",
      "RecordStatus\n",
      "\t PubMed - in process\n",
      "PubStatus\n",
      "\t ppublish\n",
      "ArticleIds\n",
      "\t {'pubmed': ['33017218'], 'medline': [], 'doi': '10.1080/21505594.2020.1827886', 'rid': '33017218', 'eid': '33017218'}\n",
      "DOI\n",
      "\t 10.1080/21505594.2020.1827886\n",
      "History\n",
      "\t {'pubmed': ['2020/10/06 06:00'], 'medline': ['2020/10/06 06:00'], 'entrez': '2020/10/05 17:08'}\n",
      "References\n",
      "\t []\n",
      "HasAbstract\n",
      "\t IntegerElement(1, attributes={})\n",
      "PmcRefCount\n",
      "\t IntegerElement(0, attributes={})\n",
      "FullJournalName\n",
      "\t Virulence\n",
      "ELocationID\n",
      "\t doi: 10.1080/21505594.2020.1827886\n",
      "SO\n",
      "\t 2020 Dec;11(1):1352-1365\n"
     ]
    }
   ],
   "source": [
    "example_paper = Entrez.read( Entrez.esummary(db=\"pubmed\", id='33017218') )[0]\n",
    "\n",
    "def print_dict( p ):\n",
    "    for k,v in p.items():\n",
    "        print(k)\n",
    "        print('\\t', v)\n",
    "\n",
    "print_dict(example_paper)"
   ]
  },
  {
   "cell_type": "markdown",
   "metadata": {},
   "source": [
    "For now, we'll keep just some basic information for each paper: title, list of authors, publication year, and [DOI](https://en.wikipedia.org/wiki/Digital_object_identifier).\n",
    "\n",
    "In case you are not familiar with the DOI system, know that the paper above can be accessed through the link  `https://www.doi.org/` followed by the paper's DOI."
   ]
  },
  {
   "cell_type": "code",
   "execution_count": 13,
   "metadata": {},
   "outputs": [
    {
     "data": {
      "text/plain": [
       "('Transcriptomic analyses reveal comprehensive responses of insect hemocytes to mycopathogen Beauveria bassiana, and fungal virulence-related cell wall protein assists pathogen to evade host cellular defense.',\n",
       " ['Ding JL', 'Hou J', 'Feng MG', 'Ying SH'],\n",
       " 2020,\n",
       " '10.1080/21505594.2020.1827886')"
      ]
     },
     "execution_count": 13,
     "metadata": {},
     "output_type": "execute_result"
    }
   ],
   "source": [
    "( example_paper['Title'], example_paper['AuthorList'], int(example_paper['PubDate'][:4]), example_paper['DOI'] )"
   ]
  },
  {
   "cell_type": "markdown",
   "metadata": {},
   "source": [
    "### Summaries dataset"
   ]
  },
  {
   "cell_type": "markdown",
   "metadata": {},
   "source": [
    "We are now ready to assemble a dataset containing the summaries of all the paper `Ids` we previously fetched.\n",
    "\n",
    "To reduce the memory footprint, and to ensure the saved datasets won't depend on Biopython being installed to be properly loaded, values returned by `Entrez.read()` will be converted to their corresponding native Python types. We start by defining a function for helping with the conversion of strings:"
   ]
  },
  {
   "cell_type": "code",
   "execution_count": 14,
   "metadata": {},
   "outputs": [],
   "source": [
    "Summaries_file = 'data/' + search_term + '_Summaries.pkl.bz2'"
   ]
  },
  {
   "cell_type": "code",
   "execution_count": 15,
   "metadata": {},
   "outputs": [],
   "source": [
    "if os.path.exists( Summaries_file ):\n",
    "    Summaries = pickle.load( bz2.BZ2File( Summaries_file, 'rb' ) )\n",
    "else:\n",
    "    # `Summaries` will be incrementally assembled, by performing multiple queries,\n",
    "    # each returning at most `retrieve_per_query` entries.\n",
    "    Summaries = []\n",
    "    retrieve_per_query = 500\n",
    "    \n",
    "    print('Fetching Summaries of results: ')\n",
    "    for start in range( 0, len(Ids), retrieve_per_query ):\n",
    "        if (start % 10000 == 0):\n",
    "            print('')\n",
    "            print(start, end='')\n",
    "        else:\n",
    "            print('.', end='')\n",
    "        \n",
    "        # build comma separated string with the ids at indexes [start, start+retrieve_per_query)\n",
    "        query_ids = ','.join( [ str(id) for id in Ids[ start : start+retrieve_per_query ] ] )\n",
    "        \n",
    "        s = Entrez.read( Entrez.esummary( db=\"pubmed\", id=query_ids ) )\n",
    "        \n",
    "        # out of the retrieved data, we will keep only a tuple (title, authors, year, DOI), associated with the paper's id.\n",
    "        # (all values converted to native Python formats)\n",
    "        for p in s:\n",
    "            try:\n",
    "                f = [\n",
    "                    ( int( p['Id'] ), (\n",
    "                        str( p['Title'] ),\n",
    "                        [ str(a) for a in p['AuthorList'] ],\n",
    "                        int( p['PubDate'][:4] ),                # keeps just the publication year\n",
    "                        str( p.get('DOI', '') )            # papers for which no DOI is available get an empty string in their place\n",
    "                        ) )\n",
    "                    ]\n",
    "                Summaries.extend( f )\n",
    "            except ValueError as e:\n",
    "                print(\"\\nError with ID \" + p['Id'] + \": \" + str(e))\n",
    "                print(\"Manually remove this ID above and re-run code.\")\n",
    "    \n",
    "    # Save Summaries, as a dictionary indexed by Ids\n",
    "    Summaries = dict( Summaries )\n",
    "    \n",
    "    pickle.dump( Summaries, bz2.BZ2File( Summaries_file, 'wb' ) )"
   ]
  },
  {
   "cell_type": "markdown",
   "metadata": {},
   "source": [
    "Let us take a look at the first 3 retrieved summaries:"
   ]
  },
  {
   "cell_type": "code",
   "execution_count": 16,
   "metadata": {},
   "outputs": [
    {
     "data": {
      "text/plain": [
       "{33017218: ('Transcriptomic analyses reveal comprehensive responses of insect hemocytes to mycopathogen Beauveria bassiana, and fungal virulence-related cell wall protein assists pathogen to evade host cellular defense.',\n",
       "  ['Ding JL', 'Hou J', 'Feng MG', 'Ying SH'],\n",
       "  2020,\n",
       "  '10.1080/21505594.2020.1827886'),\n",
       " 33016130: ('Cytotoxic xanthones from the plant endophytic fungus <i>Paecilamyces</i> sp. TE-540.',\n",
       "  ['Li XQ', 'Dong QJ', 'Xu K', 'Yuan XL', 'Liu XM', 'Zhang P'],\n",
       "  2020,\n",
       "  '10.1080/14786419.2020.1828410'),\n",
       " 33016123: ('One new piperazinedione isolated from a mangrove-derived fungus <i>Aspergillus niger</i> JX-5.',\n",
       "  ['Bai M',\n",
       "   'Wang Y',\n",
       "   'Liu T',\n",
       "   'Lian YX',\n",
       "   'Bai QQ',\n",
       "   'Song XP',\n",
       "   'Han CR',\n",
       "   'Zheng CJ',\n",
       "   'Chen GY'],\n",
       "  2020,\n",
       "  '10.1080/14786419.2020.1828407')}"
      ]
     },
     "execution_count": 16,
     "metadata": {},
     "output_type": "execute_result"
    }
   ],
   "source": [
    "{ id : Summaries[id] for id in Ids[:3] }"
   ]
  },
  {
   "cell_type": "markdown",
   "metadata": {},
   "source": [
    "## EFetch: Downloading full records from Entrez"
   ]
  },
  {
   "cell_type": "markdown",
   "metadata": {},
   "source": [
    "`Entrez.efetch()` is the function that will allow us to obtain paper abstracts. Let us start by taking a look at the kind of data it returns when we query PubMed's database."
   ]
  },
  {
   "cell_type": "code",
   "execution_count": 17,
   "metadata": {},
   "outputs": [],
   "source": [
    "q = Entrez.read( Entrez.efetch(db=\"pubmed\", id='33017218', retmode=\"xml\") )['PubmedArticle']"
   ]
  },
  {
   "cell_type": "markdown",
   "metadata": {},
   "source": [
    "`q` is a list, with each member corresponding to a queried id. Because here we only queried for one id, its results are then in `q[0]`."
   ]
  },
  {
   "cell_type": "code",
   "execution_count": 18,
   "metadata": {},
   "outputs": [
    {
     "data": {
      "text/plain": [
       "(list, 1)"
      ]
     },
     "execution_count": 18,
     "metadata": {},
     "output_type": "execute_result"
    }
   ],
   "source": [
    "type(q), len(q)"
   ]
  },
  {
   "cell_type": "markdown",
   "metadata": {},
   "source": [
    "1\n",
    "At `q[0]` we find a dictionary containing two keys, the contents of which we print below."
   ]
  },
  {
   "cell_type": "code",
   "execution_count": 19,
   "metadata": {},
   "outputs": [
    {
     "data": {
      "text/plain": [
       "(Bio.Entrez.Parser.DictionaryElement,\n",
       " dict_keys(['MedlineCitation', 'PubmedData']))"
      ]
     },
     "execution_count": 19,
     "metadata": {},
     "output_type": "execute_result"
    }
   ],
   "source": [
    "type(q[0]), q[0].keys()"
   ]
  },
  {
   "cell_type": "code",
   "execution_count": 20,
   "metadata": {},
   "outputs": [
    {
     "name": "stdout",
     "output_type": "stream",
     "text": [
      "ReferenceList\n",
      "\t []\n",
      "History\n",
      "\t [DictElement({'Year': '2020', 'Month': '10', 'Day': '5', 'Hour': '17', 'Minute': '8'}, attributes={'PubStatus': 'entrez'}), DictElement({'Year': '2020', 'Month': '10', 'Day': '6', 'Hour': '6', 'Minute': '0'}, attributes={'PubStatus': 'pubmed'}), DictElement({'Year': '2020', 'Month': '10', 'Day': '6', 'Hour': '6', 'Minute': '0'}, attributes={'PubStatus': 'medline'})]\n",
      "PublicationStatus\n",
      "\t ppublish\n",
      "ArticleIdList\n",
      "\t [StringElement('33017218', attributes={'IdType': 'pubmed'}), StringElement('10.1080/21505594.2020.1827886', attributes={'IdType': 'doi'})]\n"
     ]
    }
   ],
   "source": [
    "print_dict( q[0][ 'PubmedData' ] )"
   ]
  },
  {
   "cell_type": "markdown",
   "metadata": {},
   "source": [
    "The key `'MedlineCitation'` maps into another dictionary. In that dictionary, most of the information is contained under the key `'Article'`. To minimize the clutter, below we show the contents of `'MedlineCitation'` excluding its `'Article'` member, and below that we then show the contents of `'Article'`."
   ]
  },
  {
   "cell_type": "code",
   "execution_count": 21,
   "metadata": {},
   "outputs": [
    {
     "name": "stdout",
     "output_type": "stream",
     "text": [
      "OtherID\n",
      "\t []\n",
      "SpaceFlightMission\n",
      "\t []\n",
      "CitationSubset\n",
      "\t ['IM']\n",
      "KeywordList\n",
      "\t [ListElement([StringElement(' Beauveria bassiana ', attributes={'MajorTopicYN': 'N'}), StringElement('cell-wall protein', attributes={'MajorTopicYN': 'N'}), StringElement('encapsulation', attributes={'MajorTopicYN': 'N'}), StringElement('entomopathogenic fungus', attributes={'MajorTopicYN': 'N'}), StringElement('hemocyte response', attributes={'MajorTopicYN': 'N'}), StringElement('insect immunity', attributes={'MajorTopicYN': 'N'}), StringElement('virulence', attributes={'MajorTopicYN': 'N'})], attributes={'Owner': 'NOTNLM'})]\n",
      "OtherAbstract\n",
      "\t []\n",
      "GeneralNote\n",
      "\t []\n",
      "PMID\n",
      "\t 33017218\n",
      "DateRevised\n",
      "\t {'Year': '2020', 'Month': '10', 'Day': '05'}\n",
      "MedlineJournalInfo\n",
      "\t {'Country': 'United States', 'MedlineTA': 'Virulence', 'NlmUniqueID': '101531386', 'ISSNLinking': '2150-5594'}\n"
     ]
    }
   ],
   "source": [
    "print_dict( { k:v for k,v in q[0][ 'MedlineCitation' ].items() if k!='Article' } )"
   ]
  },
  {
   "cell_type": "code",
   "execution_count": 22,
   "metadata": {},
   "outputs": [
    {
     "name": "stdout",
     "output_type": "stream",
     "text": [
      "ELocationID\n",
      "\t [StringElement('10.1080/21505594.2020.1827886', attributes={'EIdType': 'doi', 'ValidYN': 'Y'})]\n",
      "Language\n",
      "\t ['eng']\n",
      "ArticleDate\n",
      "\t []\n",
      "Journal\n",
      "\t {'ISSN': StringElement('2150-5608', attributes={'IssnType': 'Electronic'}), 'JournalIssue': DictElement({'Volume': '11', 'Issue': '1', 'PubDate': {'Year': '2020', 'Month': 'Dec'}}, attributes={'CitedMedium': 'Internet'}), 'Title': 'Virulence', 'ISOAbbreviation': 'Virulence'}\n",
      "ArticleTitle\n",
      "\t Transcriptomic analyses reveal comprehensive responses of insect hemocytes to mycopathogen Beauveria bassiana, and fungal virulence-related cell wall protein assists pathogen to evade host cellular defense.\n",
      "Pagination\n",
      "\t {'MedlinePgn': '1352-1365'}\n",
      "Abstract\n",
      "\t {'AbstractText': ['Entomopathogenic fungi naturally infect insect hosts in environment. Fungal invasion and host immune defense are still in the progress of co-evolution. In this study, entomopathogenic fungus <i>Beauveria bassiana</i> and lepidopteran insect <i>Galleria mellonella</i> were used to investigate host cellular immunity and fungal strategy to evade host defense. First of all, genome-wide expression revealed the transcriptomic responses of hemocytes to insect mycopathogen, which dynamically varied during infection process. Enrichment analysis indicated that differentially expressed genes were primarily involved in metabolism, cellular process and immune system. Notably, cellular response involved a series of hydrolytic enzyme and antimicrobial peptide genes which were sorted together in clustering analysis. In <i>B. bassiana</i>, a cell-wall protein gene (<i>BbCwp</i>) contributes to fungal development in host hemocoel and virulence. RT-qPCR analyses indicated that infection by Δ<i>BbCwp</i> mutant strain caused the up-regulated expression of a series of immunity-related genes, including β-1, 3-glucan recognition protein, hydrolytic enzyme and antimicrobial peptide genes. Disruption of <i>BbCwp</i> resulted in a significant change in conidial lectin-binding feature and the enhanced encapsulation by the host hemocytes. After being treated with hydrolytic enzymes, Δ<i>BbCwp</i> mutant displayed a significantly enhanced sensitivity to osmotic and oxidative stresses. In conclusion, fungal invasion initiates comprehensive physiological responses in the host hemocytes. For mycopathogen, cell-wall protein plays an important role in fungal evasion of immunity defense and colonization in host. Our studies provide an initial framework for exploring more mechanistic details about the fungus-host interaction.']}\n",
      "AuthorList\n",
      "\t ListElement([DictElement({'Identifier': [], 'AffiliationInfo': [{'Identifier': [], 'Affiliation': 'Institute of Microbiology, College of Life Sciences, Zhejiang University , Hangzhou, China.'}], 'LastName': 'Ding', 'ForeName': 'Jin-Li', 'Initials': 'JL'}, attributes={'ValidYN': 'Y'}), DictElement({'Identifier': [], 'AffiliationInfo': [{'Identifier': [], 'Affiliation': 'Institute of Microbiology, College of Life Sciences, Zhejiang University , Hangzhou, China.'}], 'LastName': 'Hou', 'ForeName': 'Jia', 'Initials': 'J'}, attributes={'ValidYN': 'Y'}), DictElement({'Identifier': [], 'AffiliationInfo': [{'Identifier': [], 'Affiliation': 'Institute of Microbiology, College of Life Sciences, Zhejiang University , Hangzhou, China.'}], 'LastName': 'Feng', 'ForeName': 'Ming-Guang', 'Initials': 'MG'}, attributes={'ValidYN': 'Y'}), DictElement({'Identifier': [StringElement('https://orcid.org/0000-0002-2108-9353', attributes={'Source': 'ORCID'})], 'AffiliationInfo': [{'Identifier': [], 'Affiliation': 'Institute of Microbiology, College of Life Sciences, Zhejiang University , Hangzhou, China.'}], 'LastName': 'Ying', 'ForeName': 'Sheng-Hua', 'Initials': 'SH'}, attributes={'ValidYN': 'Y'})], attributes={'CompleteYN': 'Y'})\n",
      "PublicationTypeList\n",
      "\t [StringElement('Journal Article', attributes={'UI': 'D016428'})]\n"
     ]
    }
   ],
   "source": [
    "print_dict( q[0][ 'MedlineCitation' ][ 'Article' ] )"
   ]
  },
  {
   "cell_type": "markdown",
   "metadata": {},
   "source": [
    "A paper's abstract can therefore be accessed with:"
   ]
  },
  {
   "cell_type": "code",
   "execution_count": 23,
   "metadata": {},
   "outputs": [
    {
     "data": {
      "text/plain": [
       "{33017218: 'Entomopathogenic fungi naturally infect insect hosts in environment. Fungal invasion and host immune defense are still in the progress of co-evolution. In this study, entomopathogenic fungus <i>Beauveria bassiana</i> and lepidopteran insect <i>Galleria mellonella</i> were used to investigate host cellular immunity and fungal strategy to evade host defense. First of all, genome-wide expression revealed the transcriptomic responses of hemocytes to insect mycopathogen, which dynamically varied during infection process. Enrichment analysis indicated that differentially expressed genes were primarily involved in metabolism, cellular process and immune system. Notably, cellular response involved a series of hydrolytic enzyme and antimicrobial peptide genes which were sorted together in clustering analysis. In <i>B. bassiana</i>, a cell-wall protein gene (<i>BbCwp</i>) contributes to fungal development in host hemocoel and virulence. RT-qPCR analyses indicated that infection by Δ<i>BbCwp</i> mutant strain caused the up-regulated expression of a series of immunity-related genes, including β-1, 3-glucan recognition protein, hydrolytic enzyme and antimicrobial peptide genes. Disruption of <i>BbCwp</i> resulted in a significant change in conidial lectin-binding feature and the enhanced encapsulation by the host hemocytes. After being treated with hydrolytic enzymes, Δ<i>BbCwp</i> mutant displayed a significantly enhanced sensitivity to osmotic and oxidative stresses. In conclusion, fungal invasion initiates comprehensive physiological responses in the host hemocytes. For mycopathogen, cell-wall protein plays an important role in fungal evasion of immunity defense and colonization in host. Our studies provide an initial framework for exploring more mechanistic details about the fungus-host interaction.'}"
      ]
     },
     "execution_count": 23,
     "metadata": {},
     "output_type": "execute_result"
    }
   ],
   "source": [
    "{ int(q[0]['MedlineCitation']['PMID']) : str(q[0]['MedlineCitation']['Article']['Abstract']['AbstractText'][0]) }"
   ]
  },
  {
   "cell_type": "markdown",
   "metadata": {},
   "source": [
    "Some of the ids in our dataset refer to books from the [NCBI Bookshelf](http://www.ncbi.nlm.nih.gov/books/), a collection of freely available, downloadable, on-line versions of selected biomedical books. For such ids, `Entrez.efetch()` returns a slightly different structure, where the keys `[u'BookDocument', u'PubmedBookData']` take the place of the `[u'MedlineCitation', u'PubmedData']` keys we saw above."
   ]
  },
  {
   "cell_type": "markdown",
   "metadata": {},
   "source": [
    "### Abstracts dataset"
   ]
  },
  {
   "cell_type": "markdown",
   "metadata": {},
   "source": [
    "We can now assemble a dataset mapping paper ids to their abstracts."
   ]
  },
  {
   "cell_type": "code",
   "execution_count": 24,
   "metadata": {},
   "outputs": [],
   "source": [
    "Abstracts_file = 'data/' + search_term + '_Abstracts.pkl.bz2'"
   ]
  },
  {
   "cell_type": "code",
   "execution_count": 25,
   "metadata": {
    "scrolled": true
   },
   "outputs": [],
   "source": [
    "import http.client\n",
    "from collections import deque\n",
    "from xml.dom import minidom\n",
    "import re\n",
    "\n",
    "def ch(node, childtype):\n",
    "    return node.getElementsByTagName(childtype)[0]\n",
    "\n",
    "if os.path.exists( Abstracts_file ):\n",
    "    Abstracts = pickle.load( bz2.BZ2File( Abstracts_file, 'rb' ) )\n",
    "else:\n",
    "    # `Abstracts` will be incrementally assembled, by performing multiple queries,\n",
    "    # each returning at most `retrieve_per_query` entries.\n",
    "    Abstracts = deque()\n",
    "    retrieve_per_query = 500\n",
    "    \n",
    "    print('Fetching Abstracts of results: ')\n",
    "    for start in range( 0, len(Ids), retrieve_per_query ):\n",
    "        if (start % 10000 == 0):\n",
    "            print('')\n",
    "            print(start, end='')\n",
    "        else:\n",
    "            print('.', end='')\n",
    "        \n",
    "        # build comma separated string with the ids at indexes [start, start+retrieve_per_query)\n",
    "        query_ids = ','.join( [ str(id) for id in Ids[ start : start+retrieve_per_query ] ] )\n",
    "        \n",
    "        # issue requests to the server, until we get the full amount of data we expect\n",
    "        while True:\n",
    "            try:\n",
    "                #s = Entrez.read( Entrez.efetch(db=\"pubmed\", id=query_ids, retmode=\"xml\" ) )['PubmedArticle']\n",
    "                s = minidom.parse( Entrez.efetch(db=\"pubmed\", id=query_ids, retmode=\"xml\" ) ).getElementsByTagName(\"PubmedArticle\")\n",
    "            except http.client.IncompleteRead:\n",
    "                print('r', end='')\n",
    "                continue\n",
    "            break\n",
    "        \n",
    "        i = 0\n",
    "        for p in s:\n",
    "            abstr = ''\n",
    "            if (p.getElementsByTagName('MedlineCitation')):\n",
    "                citNode = ch(p,'MedlineCitation')\n",
    "                pmid = ch(citNode,'PMID').firstChild.data\n",
    "                articleNode = ch(citNode,'Article')\n",
    "                if (articleNode.getElementsByTagName('Abstract')):\n",
    "                    try:\n",
    "                        abstr = ch(ch(articleNode,'Abstract'),'AbstractText').firstChild.data\n",
    "                    except AttributeError:\n",
    "                        abstr = ch(ch(articleNode,'Abstract'),'AbstractText').toprettyxml(\"  \")\n",
    "                        abstr = re.sub(r\"\\s+\", \" \", re.sub(\"<[^>]*>\", \"\", abstr))\n",
    "            elif (p.getElementsByTagName('BookDocument')):\n",
    "                bookNode = ch(p,'BookDocument')\n",
    "                pmid = ch(bookNode,'PMID').firstChild.data\n",
    "                if (bookNode.getElementsByTagName('Abstract')):\n",
    "                    try:\n",
    "                        abstr = ch(ch(bookNode,'Abstract'),'AbstractText').firstChild.data\n",
    "                    except AttributeError:\n",
    "                        abstr = ch(ch(bookNode,'Abstract'),'AbstractText').toprettyxml(\"  \")\n",
    "                        abstr = re.sub(r\"\\s+\", \" \", re.sub(\"<[^>]*>\", \"\", abstr))\n",
    "            else:\n",
    "                raise Exception('Unrecognized record type, for id %d (keys: %s)' % (Ids[start+i], str(p.keys())) )\n",
    "            \n",
    "            Abstracts.append( (int(pmid), str(abstr)) )\n",
    "            i += 1\n",
    "    \n",
    "    # Save Abstracts, as a dictionary indexed by Ids\n",
    "    Abstracts = dict( Abstracts )\n",
    "    \n",
    "    pickle.dump( Abstracts, bz2.BZ2File( Abstracts_file, 'wb' ) )"
   ]
  },
  {
   "cell_type": "markdown",
   "metadata": {},
   "source": [
    "Taking a look at one paper's abstract:"
   ]
  },
  {
   "cell_type": "code",
   "execution_count": 26,
   "metadata": {},
   "outputs": [
    {
     "data": {
      "text/plain": [
       "'Entomopathogenic fungi naturally infect insect hosts in environment. Fungal invasion and host immune defense are still in the progress of co-evolution. In this study, entomopathogenic fungus '"
      ]
     },
     "execution_count": 26,
     "metadata": {},
     "output_type": "execute_result"
    }
   ],
   "source": [
    "Abstracts[33017218]"
   ]
  },
  {
   "cell_type": "markdown",
   "metadata": {},
   "source": [
    "## ELink: Searching for related items in NCBI Entrez"
   ]
  },
  {
   "cell_type": "markdown",
   "metadata": {},
   "source": [
    "To understand how to obtain paper citations with Entrez, we will first assemble a small set of PubMed IDs, and then query for their citations.\n",
    "To that end, we search here for papers published in the Nature journal with our given keyword."
   ]
  },
  {
   "cell_type": "code",
   "execution_count": 27,
   "metadata": {},
   "outputs": [
    {
     "data": {
      "text/plain": [
       "['32807960', '32218545', '31597961', '31576029', '30651637', '30455422', '29995855', '29643509', '29236691', '29236684', '28425998', '28024298', '27762375', '27708306', '27121815', '27027296', '27027290', '27027285', '26108828', '25971507']"
      ]
     },
     "execution_count": 27,
     "metadata": {},
     "output_type": "execute_result"
    }
   ],
   "source": [
    "CA_search_term = search_term+'[TIAB] AND Nature[JOUR]'\n",
    "CA_ids = Entrez.read( Entrez.esearch( db=\"pubmed\", term=CA_search_term ) )['IdList']\n",
    "CA_ids"
   ]
  },
  {
   "cell_type": "code",
   "execution_count": 28,
   "metadata": {},
   "outputs": [
    {
     "data": {
      "text/plain": [
       "{'32807960': ('Alarm as devastating banana fungus reaches the Americas.',\n",
       "  ['Lambert J'],\n",
       "  '2019',\n",
       "  'Nature',\n",
       "  '10.1038/d41586-019-02489-5'),\n",
       " '32218545': ('Skin-eating fungus is mighty species slayer.',\n",
       "  ['Warren M'],\n",
       "  '2019',\n",
       "  'Nature',\n",
       "  '10.1038/d41586-019-01002-2'),\n",
       " '31597961': ('A sensor kinase controls turgor-driven plant infection by the rice blast fungus.',\n",
       "  ['Ryder LS', 'Dagdas YF', 'Kershaw MJ', 'Venkataraman C', 'Madzvamuse A', 'Yan X', 'Cruz-Mireles N', 'Soanes DM', 'Oses-Ruiz M', 'Styles V', 'Sklenar J', 'Menke FLH', 'Talbot NJ'],\n",
       "  '2019',\n",
       "  'Nature',\n",
       "  '10.1038/s41586-019-1637-x'),\n",
       " '31576029': (\"CRISPR might be the banana's only hope against a deadly fungus.\",\n",
       "  ['Maxmen A'],\n",
       "  '2019',\n",
       "  'Nature',\n",
       "  '10.1038/d41586-019-02770-7'),\n",
       " '30651637': ('A kiwellin disarms the metabolic activity of a secreted fungal virulence factor.',\n",
       "  ['Han X', 'Altegoer F', 'Steinchen W', 'Binnebesel L', 'Schuhmacher J', 'Glatter T', 'Giammarinaro PI', 'Djamei A', 'Rensing SA', 'Reissmann S', 'Kahmann R', 'Bange G'],\n",
       "  '2019',\n",
       "  'Nature',\n",
       "  '10.1038/s41586-018-0857-9'),\n",
       " '30455422': ('Cryptic connections illuminate pathogen transmission within community networks.',\n",
       "  ['Hoyt JR', 'Langwig KE', 'White JP', 'Kaarakka HM', 'Redell JA', 'Kurta A', 'DePue JE', 'Scullon WH', 'Parise KL', 'Foster JT', 'Frick WF', 'Kilpatrick AM'],\n",
       "  '2018',\n",
       "  'Nature',\n",
       "  '10.1038/s41586-018-0720-z'),\n",
       " '29995855': ('Cryo-EM structure of a fungal mitochondrial calcium uniporter.',\n",
       "  ['Nguyen NX', 'Armache JP', 'Lee C', 'Yang Y', 'Zeng W', 'Mootha VK', 'Cheng Y', 'Bai XC', 'Jiang Y'],\n",
       "  '2018',\n",
       "  'Nature',\n",
       "  '10.1038/s41586-018-0333-6'),\n",
       " '29643509': ('Structural basis for ATP-dependent chromatin remodelling by the INO80 complex.',\n",
       "  ['Eustermann S', 'Schall K', 'Kostrewa D', 'Lakomek K', 'Strauss M', 'Moldt M', 'Hopfner KP'],\n",
       "  '2018',\n",
       "  'Nature',\n",
       "  '10.1038/s41586-018-0029-y'),\n",
       " '29236691': ('Activation mechanism of the calcium-activated chloride channel TMEM16A revealed by cryo-EM.',\n",
       "  ['Paulino C', 'Kalienkova V', 'Lam AKM', 'Neldner Y', 'Dutzler R'],\n",
       "  '2017',\n",
       "  'Nature',\n",
       "  '10.1038/nature24652'),\n",
       " '29236684': ('Cryo-EM structures of the TMEM16A calcium-activated chloride channel.',\n",
       "  ['Dang S', 'Feng S', 'Tien J', 'Peters CJ', 'Bulkley D', 'Lolicato M', 'Zhao J', 'Zuberbühler K', 'Ye W', 'Qi L', 'Chen T', 'Craik CS', 'Jan YN', 'Minor DL Jr', 'Cheng Y', 'Jan LY'],\n",
       "  '2017',\n",
       "  'Nature',\n",
       "  '10.1038/nature25024'),\n",
       " '28425998': ('Drivers of salamander extirpation mediated by Batrachochytrium salamandrivorans.',\n",
       "  ['Stegen G', 'Pasmans F', 'Schmidt BR', 'Rouffaer LO', 'Van Praet S', 'Schaub M', 'Canessa S', 'Laudelout A', 'Kinet T', 'Adriaensen C', 'Haesebrouck F', 'Bert W', 'Bossuyt F', 'Martel A'],\n",
       "  '2017',\n",
       "  'Nature',\n",
       "  '10.1038/nature22059'),\n",
       " '28024298': ('Genome sequence and genetic diversity of European ash trees.',\n",
       "  ['Sollars ES', 'Harper AL', 'Kelly LJ', 'Sambles CM', 'Ramirez-Gonzalez RH', 'Swarbreck D', 'Kaithakottil G', 'Cooper ED', 'Uauy C', 'Havlickova L', 'Worswick G', 'Studholme DJ', 'Zohren J', 'Salmon DL', 'Clavijo BJ', 'Li Y', 'He Z', 'Fellgett A', 'McKinney LV', 'Nielsen LR', 'Douglas GC', 'Kjær ED', 'Downie JA', 'Boshier D', 'Lee S', 'Clark J', 'Grant M', 'Bancroft I', 'Caccamo M', 'Buggs RJ'],\n",
       "  '2017',\n",
       "  'Nature',\n",
       "  '10.1038/nature20786'),\n",
       " '27762375': ('Plant biology: RNA spray fights fungus.',\n",
       "  [],\n",
       "  '2016',\n",
       "  'Nature',\n",
       "  '10.1038/538293d'),\n",
       " '27708306': ('Microbiology: Toad probiotic fights fungus.',\n",
       "  [],\n",
       "  '2016',\n",
       "  'Nature',\n",
       "  '10.1038/538009c'),\n",
       " '27121815': ('Devastating wheat fungus appears in Asia for first time.',\n",
       "  ['Callaway E'],\n",
       "  '2016',\n",
       "  'Nature',\n",
       "  '10.1038/532421a'),\n",
       " '27027296': ('Candidalysin is a fungal peptide toxin critical for mucosal infection.',\n",
       "  ['Moyes DL', 'Wilson D', 'Richardson JP', 'Mogavero S', 'Tang SX', 'Wernecke J', 'Höfs S', 'Gratacap RL', 'Robbins J', 'Runglall M', 'Murciano C', 'Blagojevic M', 'Thavaraj S', 'Förster TM', 'Hebecker B', 'Kasper L', 'Vizcay G', 'Iancu SI', 'Kichik N', 'Häder A', 'Kurzai O', 'Luo T', 'Krüger T', 'Kniemeyer O', 'Cota E', 'Bader O', 'Wheeler RT', 'Gutsmann T', 'Hube B', 'Naglik JR'],\n",
       "  '2016',\n",
       "  'Nature',\n",
       "  '10.1038/nature17625'),\n",
       " '27027290': ('Structural basis of cohesin cleavage by separase.',\n",
       "  ['Lin Z', 'Luo X', 'Yu H'],\n",
       "  '2016',\n",
       "  'Nature',\n",
       "  '10.1038/nature17402'),\n",
       " '27027285': ('Microbiology: Fungus produces a toxic surprise.',\n",
       "  ['Mitchell AP'],\n",
       "  '2016',\n",
       "  'Nature',\n",
       "  '10.1038/nature17319'),\n",
       " '26108828': ('Bacteria may help bats to fight deadly fungus.',\n",
       "  ['Rogers N'],\n",
       "  '2015',\n",
       "  'Nature',\n",
       "  '10.1038/522400a'),\n",
       " '25971507': ('Microbiology: Fungus against the wall.',\n",
       "  [\"O'Maille P\"],\n",
       "  '2015',\n",
       "  'Nature',\n",
       "  '10.1038/521168a')}"
      ]
     },
     "execution_count": 28,
     "metadata": {},
     "output_type": "execute_result"
    }
   ],
   "source": [
    "CA_summ = {\n",
    "    p['Id'] : ( p['Title'], p['AuthorList'], p['PubDate'][:4], p['FullJournalName'], p.get('DOI', '') )\n",
    "    for p in Entrez.read( Entrez.esummary(db=\"pubmed\", id=','.join( CA_ids )) )\n",
    "    }\n",
    "CA_summ"
   ]
  },
  {
   "cell_type": "markdown",
   "metadata": {},
   "source": [
    "Because we restricted our search to papers in an open-access journal, you can then follow their DOIs to freely access their PDFs at the journal's website."
   ]
  },
  {
   "cell_type": "markdown",
   "metadata": {},
   "source": [
    "We will now issue calls to `Entrez.elink()` using these PubMed IDs, to retrieve the IDs of papers that cite them.\n",
    "The database from which the IDs will be retrieved is [PubMed Central](http://www.ncbi.nlm.nih.gov/pmc/), a free digital database of full-text scientific literature in the biomedical and life sciences.\n",
    "\n",
    "A complete list of the kinds of links you can retrieve with `Entrez.elink()` can be found [here](http://eutils.ncbi.nlm.nih.gov/entrez/query/static/entrezlinks.html)."
   ]
  },
  {
   "cell_type": "code",
   "execution_count": 29,
   "metadata": {},
   "outputs": [],
   "source": [
    "CA_citing = {\n",
    "    id : Entrez.read( Entrez.elink(\n",
    "            cmd = \"neighbor\",               # ELink command mode: \"neighbor\", returns\n",
    "                                            #     a set of UIDs in `db` linked to the input UIDs in `dbfrom`.\n",
    "            dbfrom = \"pubmed\",              # Database containing the input UIDs: PubMed\n",
    "            db = \"pmc\",                     # Database from which to retrieve UIDs: PubMed Central\n",
    "            LinkName = \"pubmed_pmc_refs\",   # Name of the Entrez link to retrieve: \"pubmed_pmc_refs\", gets\n",
    "                                            #     \"Full-text articles in the PubMed Central Database that cite the current articles\"\n",
    "            from_uid = id                   # input UIDs\n",
    "            ) )\n",
    "    for id in CA_ids\n",
    "    }"
   ]
  },
  {
   "cell_type": "code",
   "execution_count": 30,
   "metadata": {},
   "outputs": [
    {
     "data": {
      "text/plain": [
       "[{'LinkSetDbHistory': [], 'ERROR': [], 'LinkSetDb': [{'Link': [{'Id': '7471981'}, {'Id': '6693483'}], 'DbTo': 'pmc', 'LinkName': 'pubmed_pmc_refs'}], 'DbFrom': 'pubmed', 'IdList': ['27027285']}]"
      ]
     },
     "execution_count": 30,
     "metadata": {},
     "output_type": "execute_result"
    }
   ],
   "source": [
    "CA_citing['27027285']"
   ]
  },
  {
   "cell_type": "markdown",
   "metadata": {},
   "source": [
    "We have in `CA_citing[paper_id][0]['LinkSetDb'][0]['Link']` the list of papers citing `paper_id`. To get it as just a list of ids, we can do"
   ]
  },
  {
   "cell_type": "code",
   "execution_count": 31,
   "metadata": {},
   "outputs": [
    {
     "data": {
      "text/plain": [
       "['7471981', '6693483']"
      ]
     },
     "execution_count": 31,
     "metadata": {},
     "output_type": "execute_result"
    }
   ],
   "source": [
    "cits = [ l['Id'] for l in CA_citing['27027285'][0]['LinkSetDb'][0]['Link'] ]\n",
    "cits"
   ]
  },
  {
   "cell_type": "markdown",
   "metadata": {},
   "source": [
    "However, one more step is needed, as what we have now are PubMed Central IDs, and not PubMed IDs. Their conversion can be achieved through an additional call to `Entrez.elink()`:"
   ]
  },
  {
   "cell_type": "code",
   "execution_count": 32,
   "metadata": {},
   "outputs": [
    {
     "data": {
      "text/plain": [
       "[{'LinkSetDbHistory': [], 'ERROR': [], 'LinkSetDb': [{'Link': [{'Id': '32722029'}, {'Id': '31440220'}], 'DbTo': 'pubmed', 'LinkName': 'pmc_pubmed'}], 'DbFrom': 'pmc', 'IdList': ['7471981', '6693483']}]"
      ]
     },
     "execution_count": 32,
     "metadata": {},
     "output_type": "execute_result"
    }
   ],
   "source": [
    "cits_pm = Entrez.read( Entrez.elink( dbfrom=\"pmc\", db=\"pubmed\", LinkName=\"pmc_pubmed\", from_uid=\",\".join(cits)) )\n",
    "cits_pm"
   ]
  },
  {
   "cell_type": "code",
   "execution_count": 33,
   "metadata": {},
   "outputs": [
    {
     "data": {
      "text/plain": [
       "{'7471981': '32722029', '6693483': '31440220'}"
      ]
     },
     "execution_count": 33,
     "metadata": {},
     "output_type": "execute_result"
    }
   ],
   "source": [
    "ids_map = { pmc_id : link['Id'] for (pmc_id,link) in zip(cits_pm[0]['IdList'], cits_pm[0]['LinkSetDb'][0]['Link']) }\n",
    "ids_map"
   ]
  },
  {
   "cell_type": "markdown",
   "metadata": {},
   "source": [
    "And to check these papers:"
   ]
  },
  {
   "cell_type": "code",
   "execution_count": 34,
   "metadata": {},
   "outputs": [
    {
     "data": {
      "text/plain": [
       "{'32722029': ('The Dual Function of the Fungal Toxin Candidalysin during <i>Candida albicans</i>-Macrophage Interaction and Virulence.',\n",
       "  ['König A', 'Hube B', 'Kasper L'],\n",
       "  '2020',\n",
       "  'Toxins',\n",
       "  '10.3390/toxins12080469'),\n",
       " '31440220': ('Protein-Protein Interactions in <i>Candida albicans</i>.',\n",
       "  ['Schoeters F', 'Van Dijck P'],\n",
       "  '2019',\n",
       "  'Frontiers in microbiology',\n",
       "  '10.3389/fmicb.2019.01792')}"
      ]
     },
     "execution_count": 34,
     "metadata": {},
     "output_type": "execute_result"
    }
   ],
   "source": [
    "{   p['Id'] : ( p['Title'], p['AuthorList'], p['PubDate'][:4], p['FullJournalName'], p.get('DOI', '') )\n",
    "    for p in Entrez.read( Entrez.esummary(db=\"pubmed\", id=','.join( ids_map.values() )) )\n",
    "    }"
   ]
  },
  {
   "cell_type": "markdown",
   "metadata": {},
   "source": [
    "### Citations dataset"
   ]
  },
  {
   "cell_type": "markdown",
   "metadata": {},
   "source": [
    "We have now seen all the steps required to assemble a dataset of citations to each of the papers in our dataset."
   ]
  },
  {
   "cell_type": "code",
   "execution_count": 35,
   "metadata": {},
   "outputs": [],
   "source": [
    "Citations_file = 'data/' + search_term + '_Citations.pkl.bz2'\n",
    "Citations = []"
   ]
  },
  {
   "cell_type": "markdown",
   "metadata": {},
   "source": [
    "At least one server query will be issued per paper in `Ids`. Because NCBI allows for at most 3 queries per second (see [here](http://biopython.org/DIST/docs/api/Bio.Entrez-pysrc.html#_open)), this dataset will take a long time to assemble. Should you need to interrupt it for some reason, or the connection fail at some point, it is safe to just rerun the cell below until all data is collected."
   ]
  },
  {
   "cell_type": "code",
   "execution_count": 36,
   "metadata": {},
   "outputs": [
    {
     "name": "stdout",
     "output_type": "stream",
     "text": [
      "......\tsaving at checkpoint 52608\n",
      ".....\tsaving at checkpoint 53156\n",
      "......\tsaving at checkpoint 53704\n",
      ".....\tsaving at checkpoint 54252\n",
      ".....\n",
      " done.\n"
     ]
    }
   ],
   "source": [
    "import http.client\n",
    "\n",
    "if Citations == [] and os.path.exists( Citations_file ):\n",
    "    Citations = pickle.load( bz2.BZ2File( Citations_file, 'rb' ) )\n",
    "\n",
    "if len(Citations) < len(Ids):\n",
    "    \n",
    "    i = len(Citations)\n",
    "    checkpoint = int(len(Ids) / 100) + 1      # save to hard drive at every 1% of Ids fetched\n",
    "    \n",
    "    for pm_id in Ids[i:]:               # either starts from index 0, or resumes from where we previously left off\n",
    "        \n",
    "        while True:\n",
    "            try:\n",
    "                # query for papers archived in PubMed Central that cite the paper with PubMed ID `pm_id`\n",
    "                c = Entrez.read( Entrez.elink( dbfrom = \"pubmed\", db=\"pmc\", LinkName = \"pubmed_pmc_refs\", id=str(pm_id) ) )\n",
    "                \n",
    "                c = c[0]['LinkSetDb']\n",
    "                if len(c) == 0:\n",
    "                    # no citations found for the current paper\n",
    "                    c = []\n",
    "                else:\n",
    "                    c = [ l['Id'] for l in c[0]['Link'] ]\n",
    "                    \n",
    "                    # convert citations from PubMed Central IDs to PubMed IDs\n",
    "                    p = []\n",
    "                    retrieve_per_query = 500\n",
    "                    for start in range( 0, len(c), retrieve_per_query ):\n",
    "                        query_ids = ','.join( c[start : start+retrieve_per_query] )\n",
    "                        r = Entrez.read( Entrez.elink( dbfrom=\"pmc\", db=\"pubmed\", LinkName=\"pmc_pubmed\", from_uid=query_ids ) )\n",
    "                        # select the IDs. If no matching PubMed ID was found, [] is returned instead\n",
    "                        p.extend( [] if r[0]['LinkSetDb']==[] else [ int(link['Id']) for link in r[0]['LinkSetDb'][0]['Link'] ] )\n",
    "                    c = p\n",
    "            \n",
    "            except http.client.BadStatusLine:\n",
    "                # Presumably, the server closed the connection before sending a valid response. Retry until we have the data.\n",
    "                print('r')\n",
    "                continue\n",
    "            except HTTPError:\n",
    "                print('r')\n",
    "                continue\n",
    "            break\n",
    "        \n",
    "        Citations.append( (pm_id, c) )\n",
    "        if (i % 10000 == 0):\n",
    "            print('')\n",
    "            print(i, end='')\n",
    "        if (i % 100 == 0):\n",
    "            print('.', end='')\n",
    "        i += 1\n",
    "        \n",
    "        if i % checkpoint == 0:\n",
    "            print('\\tsaving at checkpoint', i)\n",
    "            pickle.dump( Citations, bz2.BZ2File( Citations_file, 'wb' ) )\n",
    "    \n",
    "    print('\\n done.')\n",
    "    \n",
    "    # Save Citations, as a dictionary indexed by Ids\n",
    "    Citations = dict( Citations )\n",
    "    \n",
    "    pickle.dump( Citations, bz2.BZ2File( Citations_file, 'wb' ) )"
   ]
  },
  {
   "cell_type": "markdown",
   "metadata": {},
   "source": [
    "To see that we have indeed obtained the data we expected, you can match the ids below, with the ids listed at the end of last section."
   ]
  },
  {
   "cell_type": "code",
   "execution_count": 41,
   "metadata": {},
   "outputs": [
    {
     "data": {
      "text/plain": [
       "[32722029, 31440220]"
      ]
     },
     "execution_count": 41,
     "metadata": {},
     "output_type": "execute_result"
    }
   ],
   "source": [
    "Citations[27027285]"
   ]
  },
  {
   "cell_type": "markdown",
   "metadata": {},
   "source": [
    "## Where do we go from here?"
   ]
  },
  {
   "cell_type": "markdown",
   "metadata": {},
   "source": [
    "Running the code above generates multiple local files, containing the datasets we'll be working with. Loading them into memory is a matter of just issuing a call like<br>\n",
    "``data = pickle.load( bz2.BZ2File( data_file, 'rb' ) )``.\n",
    "\n",
    "The Entrez module will therefore no longer be needed, unless you wish to extend your data processing with additional information retrieved from PubMed.\n",
    "\n",
    "Should you be interested in looking at alternative ways to handle the data, have a look at the [sqlite3](http://docs.python.org/3/library/sqlite3.html) module included in Python's standard library, or [Pandas](http://pandas.pydata.org/), the Python Data Analysis Library."
   ]
  }
 ],
 "metadata": {
  "kernelspec": {
   "display_name": "Python 3",
   "language": "python",
   "name": "python3"
  },
  "language_info": {
   "codemirror_mode": {
    "name": "ipython",
    "version": 3
   },
   "file_extension": ".py",
   "mimetype": "text/x-python",
   "name": "python",
   "nbconvert_exporter": "python",
   "pygments_lexer": "ipython3",
   "version": "3.8.5"
  }
 },
 "nbformat": 4,
 "nbformat_minor": 1
}
