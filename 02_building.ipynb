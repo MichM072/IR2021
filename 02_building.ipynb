{
 "cells": [
  {
   "cell_type": "markdown",
   "metadata": {},
   "source": [
    "# Assignment 2: Building a Simple Index"
   ]
  },
  {
   "cell_type": "markdown",
   "metadata": {},
   "source": [
    "In this assignment, we will build a simple search index, which we will use later for Boolean retrieval. The assignment tasks are again at the bottom of this document."
   ]
  },
  {
   "cell_type": "markdown",
   "metadata": {},
   "source": [
    "## Loading the Data"
   ]
  },
  {
   "cell_type": "code",
   "execution_count": 1,
   "metadata": {},
   "outputs": [],
   "source": [
    "Summaries_file = 'data/fungus_Summaries.pkl.bz2'\n",
    "Abstracts_file = 'data/fungus_Abstracts.pkl.bz2'"
   ]
  },
  {
   "cell_type": "code",
   "execution_count": 2,
   "metadata": {},
   "outputs": [],
   "source": [
    "import pickle, bz2\n",
    "from collections import namedtuple\n",
    "\n",
    "Summaries = pickle.load( bz2.BZ2File( Summaries_file, 'rb' ) )\n",
    "\n",
    "paper = namedtuple( 'paper', ['title', 'authors', 'year', 'doi'] )\n",
    "\n",
    "for (id, paper_info) in Summaries.items():\n",
    "    Summaries[id] = paper( *paper_info )\n",
    "    \n",
    "Abstracts = pickle.load( bz2.BZ2File( Abstracts_file, 'rb' ) )"
   ]
  },
  {
   "cell_type": "markdown",
   "metadata": {},
   "source": [
    "Let's have a look at what the data looks like for an example of a paper:"
   ]
  },
  {
   "cell_type": "code",
   "execution_count": 3,
   "metadata": {},
   "outputs": [
    {
     "data": {
      "text/plain": [
       "paper(title='Drivers of salamander extirpation mediated by Batrachochytrium salamandrivorans.', authors=['Stegen G', 'Pasmans F', 'Schmidt BR', 'Rouffaer LO', 'Van Praet S', 'Schaub M', 'Canessa S', 'Laudelout A', 'Kinet T', 'Adriaensen C', 'Haesebrouck F', 'Bert W', 'Bossuyt F', 'Martel A'], year=2017, doi='10.1038/nature22059')"
      ]
     },
     "execution_count": 3,
     "metadata": {},
     "output_type": "execute_result"
    }
   ],
   "source": [
    "Summaries[28425998]"
   ]
  },
  {
   "cell_type": "code",
   "execution_count": 4,
   "metadata": {},
   "outputs": [
    {
     "data": {
      "text/plain": [
       "\"The recent arrival of Batrachochytrium salamandrivorans in Europe was followed by rapid expansion of its geographical distribution and host range, confirming the unprecedented threat that this chytrid fungus poses to western Palaearctic amphibians. Mitigating this hazard requires a thorough understanding of the pathogen's disease ecology that is driving the extinction process. Here, we monitored infection, disease and host population dynamics in a Belgian fire salamander (Salamandra salamandra) population for two years immediately after the first signs of infection. We show that arrival of this chytrid is associated with rapid population collapse without any sign of recovery, largely due to lack of increased resistance in the surviving salamanders and a demographic shift that prevents compensation for mortality. The pathogen adopts a dual transmission strategy, with environmentally resistant non-motile spores in addition to the motile spores identified in its sister species B. dendrobatidis. The fungus retains its virulence not only in water and soil, but also in anurans and less susceptible urodelan species that function as infection reservoirs. The combined characteristics of the disease ecology suggest that further expansion of this fungus will behave as a 'perfect storm' that is able to rapidly extirpate highly susceptible salamander populations across Europe.\""
      ]
     },
     "execution_count": 4,
     "metadata": {},
     "output_type": "execute_result"
    }
   ],
   "source": [
    "Abstracts[28425998]"
   ]
  },
  {
   "cell_type": "markdown",
   "metadata": {},
   "source": [
    "## Some Utility Functions"
   ]
  },
  {
   "cell_type": "markdown",
   "metadata": {},
   "source": [
    "We'll define some utility functions that allow us to tokenize a string into terms, perform linguistic preprocessing on a list of terms, as well as a function to display information about a paper in a nice way. Note that these tokenization and preprocessing functions are rather naive. We will improve them in a later assignment."
   ]
  },
  {
   "cell_type": "code",
   "execution_count": 5,
   "metadata": {},
   "outputs": [
    {
     "name": "stdout",
     "output_type": "stream",
     "text": [
      "['lorem', 'ipsum', 'dolor', 'sit', 'amet']\n"
     ]
    }
   ],
   "source": [
    "def tokenize(text):\n",
    "    \"\"\"\n",
    "    Function that tokenizes a string in a rather naive way. Can be extended later.\n",
    "    \"\"\"\n",
    "    return text.split(' ')\n",
    "\n",
    "def preprocess(tokens):\n",
    "    \"\"\"\n",
    "    Perform linguistic preprocessing on a list of tokens. Can be extended later.\n",
    "    \"\"\"\n",
    "    result = []\n",
    "    for token in tokens:\n",
    "        result.append(token.lower())\n",
    "    return result\n",
    "\n",
    "print(preprocess(tokenize(\"Lorem ipsum dolor sit AMET\")))"
   ]
  },
  {
   "cell_type": "code",
   "execution_count": 6,
   "metadata": {},
   "outputs": [
    {
     "data": {
      "text/html": [
       "<strong><a href=http://dx.doi.org/10.1038/nature22059>Drivers of salamander extirpation mediated by Batrachochytrium salamandrivorans.</a></strong><br>2017. Stegen G, Pasmans F, Schmidt BR, Rouffaer LO, Van Praet S, Schaub M, Canessa S, Laudelout A, Kinet T, Adriaensen C, Haesebrouck F, Bert W, Bossuyt F, Martel A<br>[ID: 28425998]"
      ],
      "text/plain": [
       "<IPython.core.display.HTML object>"
      ]
     },
     "metadata": {},
     "output_type": "display_data"
    },
    {
     "data": {
      "text/html": [
       "<strong><a href=http://dx.doi.org/10.1038/nature22059>Drivers of salamander extirpation mediated by Batrachochytrium salamandrivorans.</a></strong><br>2017. Stegen G, Pasmans F, Schmidt BR, Rouffaer LO, Van Praet S, Schaub M, Canessa S, Laudelout A, Kinet T, Adriaensen C, Haesebrouck F, Bert W, Bossuyt F, Martel A<br><small><strong>Abstract:</strong> <em>The recent arrival of Batrachochytrium salamandrivorans in Europe was followed by rapid expansion of its geographical distribution and host range, confirming the unprecedented threat that this chytrid fungus poses to western Palaearctic amphibians. Mitigating this hazard requires a thorough understanding of the pathogen's disease ecology that is driving the extinction process. Here, we monitored infection, disease and host population dynamics in a Belgian fire salamander (Salamandra salamandra) population for two years immediately after the first signs of infection. We show that arrival of this chytrid is associated with rapid population collapse without any sign of recovery, largely due to lack of increased resistance in the surviving salamanders and a demographic shift that prevents compensation for mortality. The pathogen adopts a dual transmission strategy, with environmentally resistant non-motile spores in addition to the motile spores identified in its sister species B. dendrobatidis. The fungus retains its virulence not only in water and soil, but also in anurans and less susceptible urodelan species that function as infection reservoirs. The combined characteristics of the disease ecology suggest that further expansion of this fungus will behave as a 'perfect storm' that is able to rapidly extirpate highly susceptible salamander populations across Europe.</em></small><br>[ID: 28425998]"
      ],
      "text/plain": [
       "<IPython.core.display.HTML object>"
      ]
     },
     "metadata": {},
     "output_type": "display_data"
    }
   ],
   "source": [
    "from IPython.display import display, HTML\n",
    "import re\n",
    "\n",
    "def display_summary( id, show_abstract=False, show_id=True, extra_text='' ):\n",
    "    \"\"\"\n",
    "    Function for printing a paper's summary through IPython's Rich Display System.\n",
    "    Trims long author lists, and adds a link to the paper's DOI (when available).\n",
    "    \"\"\"\n",
    "    s = Summaries[id]\n",
    "    lines = []\n",
    "    title = s.title\n",
    "    if s.doi != '':\n",
    "        title = '<a href=http://dx.doi.org/{:s}>{:s}</a>'.format(s.doi, title)\n",
    "    title = '<strong>' + title + '</strong>'\n",
    "    lines.append(title)\n",
    "    authors = ', '.join( s.authors[:20] ) + ('' if len(s.authors) <= 20 else ', ...')\n",
    "    lines.append(str(s.year) + '. ' + authors)\n",
    "    if (show_abstract):\n",
    "        lines.append('<small><strong>Abstract:</strong> <em>{:s}</em></small>'.format(Abstracts[id]))\n",
    "    if (show_id):\n",
    "        lines.append('[ID: {:d}]'.format(id))\n",
    "    if (extra_text != ''):\n",
    "         lines.append(extra_text)\n",
    "    display( HTML('<br>'.join(lines)) )\n",
    "\n",
    "display_summary(28425998)\n",
    "display_summary(28425998, show_abstract=True)"
   ]
  },
  {
   "cell_type": "markdown",
   "metadata": {},
   "source": [
    "## Creating our first index"
   ]
  },
  {
   "cell_type": "markdown",
   "metadata": {},
   "source": [
    "We will now create an _inverted index_ based on the words in the titles and abstracts of the papers in our dataset. We will implement our inverted index as a Python dictionary with term strings as keys and posting lists (implemented as Python lists) as values. We include all the tokens we can find in the title and (if available) in the abstract:"
   ]
  },
  {
   "cell_type": "code",
   "execution_count": 7,
   "metadata": {},
   "outputs": [],
   "source": [
    "from collections import defaultdict\n",
    "\n",
    "inverted_index = defaultdict(list)\n",
    "\n",
    "# This can take a few seconds:\n",
    "for id in sorted(Summaries.keys()):\n",
    "    term_set = set(preprocess(tokenize(Summaries[id].title)))\n",
    "    if id in Abstracts:\n",
    "        term_set.update(preprocess(tokenize(Abstracts[id])))\n",
    "    for term in term_set:\n",
    "        inverted_index[term].append(id)"
   ]
  },
  {
   "cell_type": "markdown",
   "metadata": {},
   "source": [
    "Let's see what's in the index for the example term 'amsterdam':"
   ]
  },
  {
   "cell_type": "code",
   "execution_count": 8,
   "metadata": {},
   "outputs": [
    {
     "name": "stdout",
     "output_type": "stream",
     "text": [
      "[13577999, 22679594, 23155502, 28879757, 30722636]\n"
     ]
    }
   ],
   "source": [
    "print(inverted_index['amsterdam'])"
   ]
  },
  {
   "cell_type": "markdown",
   "metadata": {},
   "source": [
    "We can now use this inverted index to answer simple one-word queries, for example to show all papers that contain the word 'madrid':"
   ]
  },
  {
   "cell_type": "code",
   "execution_count": 9,
   "metadata": {},
   "outputs": [
    {
     "data": {
      "text/html": [
       "<strong><a href=http://dx.doi.org/10.1016/s0045-6535(02)00485-x>Tolerance and uptake of heavy metals by Trichoderma atroviride isolated from sludge.</a></strong><br>2003. López Errasquín E, Vázquez C<br><small><strong>Abstract:</strong> <em>A strain of Trichoderma atroviride, isolated from sewage sludge obtained from a water treatment plant located in Madrid (Spain), has been studied for tolerance to heavy metals (copper, zinc and cadmium) and for its capacities to uptake these metals. It was found that this fungus is capable of surviving high metal concentrations, apparently as a result of the natural selection of resistant cells. Also, growth and metal uptake have been assayed in samples where the fungus was cultured in the presence of a single metal and in the presence of a combination of two or three cations, where additive and synergistic interactions were observed. Finally, metal uptake by this strain has been studied under different nutritional conditions. It was found that the highest values of metals removal were achieved for autolysed mycelia while the lowest levels were observed in the presence of glucose.</em></small><br>[ID: 12656239]"
      ],
      "text/plain": [
       "<IPython.core.display.HTML object>"
      ]
     },
     "metadata": {},
     "output_type": "display_data"
    },
    {
     "data": {
      "text/html": [
       "<strong><a href=http://dx.doi.org/10.1016/j.riam.2015.01.002>[Outbreak of Trichophyton tonsurans ringworm in a health area of the Community of Madrid (Spain)].</a></strong><br>2016. Durán-Valle MT, Regodón-Domínguez M, Velasco-Rodríguez MJ, Aragón A, Gómez-Garcés JL<br><small><strong>Abstract:</strong> <em>Trichophyton tonsurans is a dermatophyte fungus that can cause ringworm outbreaks. In our health area in September 2013, two cases of T. tonsurans ringworm were diagnosed in children who lived in a Children's Centre.</em></small><br>[ID: 26774595]"
      ],
      "text/plain": [
       "<IPython.core.display.HTML object>"
      ]
     },
     "metadata": {},
     "output_type": "display_data"
    },
    {
     "data": {
      "text/html": [
       "<strong><a href=http://dx.doi.org/10.1094/PDIS-10-11-0890-PDN>First Report of Heterobasidion annosum on Pinus pinaster in Spain.</a></strong><br>2012. Prieto-Recio C, Romeralo C, Bezos D, Martín-García J, Martínez-Álvarez P, Botella L, Diez JJ<br><small><strong>Abstract:</strong> <em>The basidiomycete Heterobasidion annosum (Fr.) Bref. (=Fomes annosus (Fr.) Cooke), one of the most important pathogens in coniferous forests in Europe, Asia, and North America, causes root and butt rot. H. annosum was first recorded on Pinus pinaster Ait. (commonly known as Maritime pine) in France and Great Britain in 1961 (4) and Portugal in 1986 (2). P. pinaster is the most widespread conifer in Spain, with more than 700,000 and 600,000 ha in pure and mixed stands, respectively. Over the last few years, P. pinaster decline was observed in several stands in the center of the Iberian Peninsula. Unusual crown transparency, small needles, foliage discoloration, and early tree death are characteristic decline symptoms associated with the high mortality rate on this species. In June of 2010, 11 trees (40 to 60 years old) with a different degree of decline were felled in two zones (42°2'41″N, 3°18'14″W, elevation 1,096 m and 41°55'40″N, 3°12'3″W, elevation 1,128 m) and cut into sections (stump height, breast height, and near the top). Wood slices were removed from each section and taken to the laboratory. Samples were placed in moist chambers with optimal conditions of humidity and temperature to enhance pathogen growth. After 20 days of incubation in darkness at 25°C, H. annosum (anamorph Spiniger meineckellum [A. Olson] Stalpers) occurred on most of these slices. Conidiophores with subglobose to pyriform conidia (5.8 × 4.2 μm) were observed with a compound microscope. The fungus was isolated to extract DNA by disruption of the mycelium followed by washes with phenol/chloroform/isoamyl alcohol solution (25:24:1). DNA was precipitated with 20% polyethylene glycol solution. PCR was carried out according to the instructions of the manufacturer of Dynazyme II DNA polymerase (Finnzymes Ltd, Espoo, Finland) with ITS primers, 1F (5'-CTTGGTCATTTAGAGGAAGTAA-3') and 4 (5'-TCCTCCGCTTATTGATATGC-3'). After DNA purification, samples were sequenced (SECUGEN, Madrid, Spain) and aligned and corrected with Geneious Pro 5.3 to obtain the consensus sequences. Resulting DNA sequences of two isolates were deposited in GenBank (Nos. FR850494 and FR850495), and compared with a Blastn search at GenBank showing 100% identity and 100% coverage with H. annosum sensu stricto, former ISG-P (intersterility group of pines). For pathogenicity tests, 10 seedlings (2 year old) were inoculated with autoclaved P. pinaster wood chips colonized by H. annosum, and 10 control seedlings were inoculated with noncolonized wood chips. Inoculums were prepared by growing H. annosum on 4-mm-diameter wood chips placed on potato dextrose agar media for 3 weeks. The wood chips were put inside an oblique incision made at 6 cm above the soil line and wrapped with Parafilm. After 8 weeks in a growth chamber at 22.5°C with a 14-h photoperiod, the inoculated seedlings showed typical symptoms and 3 seedlings of 10 were dead. H. annosum was previously recorded on P. sylvestris in central Spain (1), causing needle drop, swelling at the stump height, and presence of dead trees by circular areas. This pathogen was also reported on P. nigra in northeastern Spain, associated with defoliation and mortality (3). To our knowledge, this is the first record of H. annosum on P. pinaster in Spain. References: (1) J. Benito-Martínez. An. Jardín Bot. Madrid 3:23, 1943. (2) N. Neves et al. EPPO Bull. 16:505, 1986. (3) J. Oliva et al. Bol. Sanidad Vegetal. Plagas. 34:415, 2008. (4) P. Spaulding. US Dep. Agric. Agric. Handb. 197:100, 1961.</em></small><br>[ID: 30727562]"
      ],
      "text/plain": [
       "<IPython.core.display.HTML object>"
      ]
     },
     "metadata": {},
     "output_type": "display_data"
    }
   ],
   "source": [
    "query_word = 'madrid'\n",
    "for i in inverted_index[query_word]:\n",
    "    display_summary(i, show_abstract=True)"
   ]
  },
  {
   "cell_type": "markdown",
   "metadata": {},
   "source": [
    "----------"
   ]
  },
  {
   "cell_type": "markdown",
   "metadata": {},
   "source": [
    "# Tasks"
   ]
  },
  {
   "cell_type": "markdown",
   "metadata": {},
   "source": [
    "**Your name:** ..."
   ]
  },
  {
   "cell_type": "markdown",
   "metadata": {},
   "source": [
    "### Task 1\n",
    "\n",
    "Implement the function `and_merge` outlined below. This function takes two posting lists from the index that can be assumed to be sorted already, and it should return the result of the merging of the two lists with AND. The resulting list should therefore include all the elements that appear in both lists. As explained on the slides, this operation should take advantage of the input lists being sorted already, should not perform any additional sorting operation, and should go through each of the input lists just once. Then, test your function with an example."
   ]
  },
  {
   "cell_type": "code",
   "execution_count": null,
   "metadata": {},
   "outputs": [],
   "source": [
    "def and_merge(sorted_list1, sorted_list2):\n",
    "    merged_list = []\n",
    "    # first we make copies of the lists, so we don't modify the existing lists in the index:\n",
    "    list1 = list(sorted_list1)\n",
    "    list2 = list(sorted_list2)\n",
    "    # ---\n",
    "    # write your code here...\n",
    "    # (use list1 and list2 here, not sorted_list1 and sorted_list2)\n",
    "    # ---\n",
    "    return merged_list\n",
    "\n",
    "# testing:\n",
    "#print(and_merge(...))"
   ]
  },
  {
   "cell_type": "markdown",
   "metadata": {},
   "source": [
    "### Task 2\n",
    "\n",
    "Similarly as above, implement the function `or_merge` outlined below that executes an OR merging of the lists. The resulting list should therefore include all the elements that appear in at least one of the lists. Again, this operation should take advantage of the input lists being sorted already, should not perform any additional sorting operation, and should go through each of the input lists just once. Elements that appear in both input list should only appear once in the output list. Test your function again with an example."
   ]
  },
  {
   "cell_type": "code",
   "execution_count": null,
   "metadata": {},
   "outputs": [],
   "source": [
    "def or_merge(sorted_list1, sorted_list2):\n",
    "    merged_list = []\n",
    "    # first we make copies of the lists, so we don't modify the existing lists in the index:\n",
    "    list1 = list(sorted_list1)\n",
    "    list2 = list(sorted_list2)\n",
    "    # ---\n",
    "    # write your code here...\n",
    "    # (use list1 and list2 here, not sorted_list1 and sorted_list2)\n",
    "    # ---\n",
    "    return merged_list\n",
    "\n",
    "# testing:\n",
    "#print(or_merge(...))"
   ]
  },
  {
   "cell_type": "markdown",
   "metadata": {},
   "source": [
    "### Task 3\n",
    "\n",
    "Construct a function called `and_query` that takes as input a single string, consisting of one or more words, and returns as function value a list of matching documents. `and_query`, as its name suggests, should require that all query terms are present in the documents of the result list.\n",
    "\n",
    "For that, access the variable `inverted_index` from above and use the method `and_merge` that you defined. Also use the `tokenize` and `preprocess` functions we defined above to tokenize and preprocess your query.\n",
    "\n",
    "Again demonstrate the working of your function with an example (choose one that leads to fewer than 100 hits to not overblow this notebook file)."
   ]
  },
  {
   "cell_type": "code",
   "execution_count": null,
   "metadata": {
    "scrolled": true
   },
   "outputs": [],
   "source": [
    "# Add your code here"
   ]
  },
  {
   "cell_type": "markdown",
   "metadata": {},
   "source": [
    "### Task 4\n",
    "\n",
    "Construct another function called `or_query` that works in the same way as `and_query` you just implemented, but returns as function value the documents that contain _at least one_ of the words in the query, using the `or_merge` function you defined.\n",
    "\n",
    "Demonstrate the working of this function also with an example (again, choose one that leads to fewer than 100 hits)."
   ]
  },
  {
   "cell_type": "code",
   "execution_count": null,
   "metadata": {},
   "outputs": [],
   "source": [
    "# Add your code here"
   ]
  },
  {
   "cell_type": "markdown",
   "metadata": {},
   "source": [
    "### Task 5\n",
    "\n",
    "Why does `and_query('spore infection reservoirs')` not return our example paper 28425998, even though it mentions spores, infection, and reservoirs in the abstract? (You do not have to implement anything to fix this yet!)"
   ]
  },
  {
   "cell_type": "markdown",
   "metadata": {},
   "source": [
    "**Answer:** [Write your answer text here]"
   ]
  },
  {
   "cell_type": "markdown",
   "metadata": {},
   "source": [
    "# Submission"
   ]
  },
  {
   "cell_type": "markdown",
   "metadata": {},
   "source": [
    "Submit the answers to the assignment via Canvas as a modified version of this Notebook file (file with `.ipynb` extension) that includes your code and your answers.\n",
    "\n",
    "Before submitting, restart the kernel and re-run the complete code (**Kernel > Restart & Run All**), and then check whether your assignment code still works as expected.\n",
    "\n",
    "Don't forget to add your name, and remember that the assignments have to be done **individually**, and that code sharing or copying are **strictly forbidden** and will be punished."
   ]
  }
 ],
 "metadata": {
  "kernelspec": {
   "display_name": "Python 3",
   "language": "python",
   "name": "python3"
  },
  "language_info": {
   "codemirror_mode": {
    "name": "ipython",
    "version": 3
   },
   "file_extension": ".py",
   "mimetype": "text/x-python",
   "name": "python",
   "nbconvert_exporter": "python",
   "pygments_lexer": "ipython3",
   "version": "3.8.5"
  }
 },
 "nbformat": 4,
 "nbformat_minor": 1
}
